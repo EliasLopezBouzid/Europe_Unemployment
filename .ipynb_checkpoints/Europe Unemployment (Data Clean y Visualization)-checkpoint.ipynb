{
 "cells": [
  {
   "cell_type": "code",
   "execution_count": 5,
   "id": "336997a4",
   "metadata": {
    "colab": {
     "base_uri": "https://localhost:8080/"
    },
    "executionInfo": {
     "elapsed": 3151,
     "status": "ok",
     "timestamp": 1628034882269,
     "user": {
      "displayName": "Elias Frozen Soul",
      "photoUrl": "",
      "userId": "04985891513697763633"
     },
     "user_tz": -120
    },
    "id": "336997a4",
    "outputId": "336ca9a3-68a3-4362-a083-41662b51c6c9",
    "scrolled": true
   },
   "outputs": [
    {
     "name": "stdout",
     "output_type": "stream",
     "text": [
      "Requirement already satisfied: folium in /home/elias/SQL/.venv/lib/python3.8/site-packages (0.14.0)\n",
      "Requirement already satisfied: requests in /home/elias/SQL/.venv/lib/python3.8/site-packages (from folium) (2.28.2)\n",
      "Requirement already satisfied: numpy in /home/elias/SQL/.venv/lib/python3.8/site-packages (from folium) (1.24.1)\n",
      "Requirement already satisfied: jinja2>=2.9 in /home/elias/SQL/.venv/lib/python3.8/site-packages (from folium) (3.1.2)\n",
      "Requirement already satisfied: branca>=0.6.0 in /home/elias/SQL/.venv/lib/python3.8/site-packages (from folium) (0.6.0)\n",
      "Requirement already satisfied: charset-normalizer<4,>=2 in /home/elias/SQL/.venv/lib/python3.8/site-packages (from requests->folium) (3.0.1)\n",
      "Requirement already satisfied: urllib3<1.27,>=1.21.1 in /home/elias/SQL/.venv/lib/python3.8/site-packages (from requests->folium) (1.26.14)\n",
      "Requirement already satisfied: idna<4,>=2.5 in /home/elias/SQL/.venv/lib/python3.8/site-packages (from requests->folium) (3.4)\n",
      "Requirement already satisfied: certifi>=2017.4.17 in /home/elias/SQL/.venv/lib/python3.8/site-packages (from requests->folium) (2022.12.7)\n",
      "Requirement already satisfied: MarkupSafe>=2.0 in /home/elias/SQL/.venv/lib/python3.8/site-packages (from jinja2>=2.9->folium) (2.1.2)\n",
      "Note: you may need to restart the kernel to use updated packages.\n"
     ]
    }
   ],
   "source": [
    "pip install folium\n"
   ]
  },
  {
   "cell_type": "code",
   "execution_count": 6,
   "id": "32452f51",
   "metadata": {
    "colab": {
     "base_uri": "https://localhost:8080/"
    },
    "executionInfo": {
     "elapsed": 2861,
     "status": "ok",
     "timestamp": 1628034885126,
     "user": {
      "displayName": "Elias Frozen Soul",
      "photoUrl": "",
      "userId": "04985891513697763633"
     },
     "user_tz": -120
    },
    "id": "32452f51",
    "outputId": "332bc970-76e5-460f-a123-2c878f9e9bbc"
   },
   "outputs": [
    {
     "name": "stdout",
     "output_type": "stream",
     "text": [
      "Requirement already satisfied: plotly in /home/elias/SQL/.venv/lib/python3.8/site-packages (5.13.0)\n",
      "Requirement already satisfied: tenacity>=6.2.0 in /home/elias/SQL/.venv/lib/python3.8/site-packages (from plotly) (8.1.0)\n",
      "Note: you may need to restart the kernel to use updated packages.\n"
     ]
    }
   ],
   "source": [
    "pip install plotly"
   ]
  },
  {
   "cell_type": "code",
   "execution_count": 3,
   "id": "24c2b887",
   "metadata": {
    "id": "24c2b887"
   },
   "outputs": [
    {
     "ename": "ModuleNotFoundError",
     "evalue": "No module named 'seaborn'",
     "output_type": "error",
     "traceback": [
      "\u001b[0;31m---------------------------------------------------------------------------\u001b[0m",
      "\u001b[0;31mModuleNotFoundError\u001b[0m                       Traceback (most recent call last)",
      "Cell \u001b[0;32mIn[3], line 5\u001b[0m\n\u001b[1;32m      3\u001b[0m \u001b[38;5;28;01mimport\u001b[39;00m \u001b[38;5;21;01mos\u001b[39;00m\n\u001b[1;32m      4\u001b[0m \u001b[38;5;28;01mimport\u001b[39;00m \u001b[38;5;21;01mmatplotlib\u001b[39;00m\u001b[38;5;21;01m.\u001b[39;00m\u001b[38;5;21;01mpyplot\u001b[39;00m \u001b[38;5;28;01mas\u001b[39;00m \u001b[38;5;21;01mplt\u001b[39;00m\n\u001b[0;32m----> 5\u001b[0m \u001b[38;5;28;01mimport\u001b[39;00m \u001b[38;5;21;01mseaborn\u001b[39;00m \u001b[38;5;28;01mas\u001b[39;00m \u001b[38;5;21;01msns\u001b[39;00m \n\u001b[1;32m      6\u001b[0m \u001b[38;5;28;01mimport\u001b[39;00m \u001b[38;5;21;01mdatetime\u001b[39;00m \u001b[38;5;28;01mas\u001b[39;00m \u001b[38;5;21;01mdt\u001b[39;00m\n\u001b[1;32m      7\u001b[0m \u001b[38;5;28;01mimport\u001b[39;00m \u001b[38;5;21;01mfolium\u001b[39;00m\n",
      "\u001b[0;31mModuleNotFoundError\u001b[0m: No module named 'seaborn'"
     ]
    }
   ],
   "source": [
    "import pandas as pd\n",
    "import numpy as np\n",
    "import os\n",
    "import matplotlib.pyplot as plt\n",
    "import seaborn as sns \n",
    "import datetime as dt\n",
    "import folium\n",
    "from folium.plugins import HeatMap, HeatMapWithTime\n",
    "%matplotlib inline\n",
    "import warnings\n",
    "warnings.filterwarnings(\"ignore\")"
   ]
  },
  {
   "cell_type": "code",
   "execution_count": null,
   "id": "cfe38622",
   "metadata": {
    "id": "cfe38622"
   },
   "outputs": [],
   "source": [
    "#Cargamos los datos y addicionalmente la lista de codigos de cada pais."
   ]
  },
  {
   "cell_type": "code",
   "execution_count": null,
   "id": "bee66183",
   "metadata": {
    "id": "bee66183"
   },
   "outputs": [],
   "source": [
    "data_df = pd.read_csv(os.path.join(\"une_rt_m.tsv\"), sep='\\t')"
   ]
  },
  {
   "cell_type": "code",
   "execution_count": null,
   "id": "f11f4b4f",
   "metadata": {
    "id": "f11f4b4f"
   },
   "outputs": [],
   "source": [
    "country_codes_df = pd.read_csv(os.path.join(\"wikipedia-iso-country-codes.csv\"))"
   ]
  },
  {
   "cell_type": "code",
   "execution_count": null,
   "id": "1fcfc5f0",
   "metadata": {
    "id": "1fcfc5f0"
   },
   "outputs": [],
   "source": [
    "#Comprobamos los valores datos"
   ]
  },
  {
   "cell_type": "code",
   "execution_count": null,
   "id": "8215f912",
   "metadata": {
    "colab": {
     "base_uri": "https://localhost:8080/"
    },
    "executionInfo": {
     "elapsed": 12,
     "status": "ok",
     "timestamp": 1628034886255,
     "user": {
      "displayName": "Elias Frozen Soul",
      "photoUrl": "",
      "userId": "04985891513697763633"
     },
     "user_tz": -120
    },
    "id": "8215f912",
    "outputId": "a645a4ec-9902-4c57-9548-3b5a1dcf72d4"
   },
   "outputs": [],
   "source": [
    "data_df.shape"
   ]
  },
  {
   "cell_type": "code",
   "execution_count": null,
   "id": "2499a0e2",
   "metadata": {
    "colab": {
     "base_uri": "https://localhost:8080/",
     "height": 253
    },
    "executionInfo": {
     "elapsed": 10,
     "status": "ok",
     "timestamp": 1628034886256,
     "user": {
      "displayName": "Elias Frozen Soul",
      "photoUrl": "",
      "userId": "04985891513697763633"
     },
     "user_tz": -120
    },
    "id": "2499a0e2",
    "outputId": "a336d2ed-dd44-4069-d40f-06587ac6b92c"
   },
   "outputs": [],
   "source": [
    "data_df.head()"
   ]
  },
  {
   "cell_type": "code",
   "execution_count": null,
   "id": "17d5e4bc",
   "metadata": {
    "id": "17d5e4bc"
   },
   "outputs": [],
   "source": [
    "#Cambiamos los nombres de las columnas y comprobamos"
   ]
  },
  {
   "cell_type": "code",
   "execution_count": null,
   "id": "a3ce02dc",
   "metadata": {
    "colab": {
     "base_uri": "https://localhost:8080/",
     "height": 204
    },
    "executionInfo": {
     "elapsed": 28,
     "status": "ok",
     "timestamp": 1628034886720,
     "user": {
      "displayName": "Elias Frozen Soul",
      "photoUrl": "",
      "userId": "04985891513697763633"
     },
     "user_tz": -120
    },
    "id": "a3ce02dc",
    "outputId": "545e7af9-3d73-4fbd-b794-ad32fdce0e12"
   },
   "outputs": [],
   "source": [
    "country_codes_df.head()"
   ]
  },
  {
   "cell_type": "code",
   "execution_count": null,
   "id": "03c7b7a7",
   "metadata": {
    "id": "03c7b7a7"
   },
   "outputs": [],
   "source": [
    "country_codes_df.columns = ['country', 'C2', 'C3', 'numeric', 'iso']"
   ]
  },
  {
   "cell_type": "code",
   "execution_count": null,
   "id": "b7cf6d66",
   "metadata": {
    "colab": {
     "base_uri": "https://localhost:8080/",
     "height": 204
    },
    "executionInfo": {
     "elapsed": 27,
     "status": "ok",
     "timestamp": 1628034886721,
     "user": {
      "displayName": "Elias Frozen Soul",
      "photoUrl": "",
      "userId": "04985891513697763633"
     },
     "user_tz": -120
    },
    "id": "b7cf6d66",
    "outputId": "49951145-016f-40c7-81b5-1e61b882651a"
   },
   "outputs": [],
   "source": [
    "country_codes_df.head()"
   ]
  },
  {
   "cell_type": "code",
   "execution_count": null,
   "id": "07f9c7a4",
   "metadata": {
    "id": "07f9c7a4"
   },
   "outputs": [],
   "source": [
    "#Separamos de la primera columna los diferentes atributos y ponerlos en diferentes columnas"
   ]
  },
  {
   "cell_type": "code",
   "execution_count": null,
   "id": "cde4120a",
   "metadata": {
    "id": "cde4120a",
    "scrolled": true
   },
   "outputs": [],
   "source": [
    "data_df['C2'] = data_df['s_adj,age,unit,sex,geo\\\\time'].apply(lambda x: x.split(\",\")[-1])\n",
    "data_df['age'] = data_df['s_adj,age,unit,sex,geo\\\\time'].apply(lambda x: x.split(\",\")[1])\n",
    "data_df['unit'] = data_df['s_adj,age,unit,sex,geo\\\\time'].apply(lambda x: x.split(\",\")[2])\n",
    "data_df['sex'] = data_df['s_adj,age,unit,sex,geo\\\\time'].apply(lambda x: x.split(\",\")[3])\n",
    "data_df['s_adj'] = data_df['s_adj,age,unit,sex,geo\\\\time'].apply(lambda x: x.split(\",\")[0])"
   ]
  },
  {
   "cell_type": "code",
   "execution_count": null,
   "id": "0fbc0186",
   "metadata": {
    "colab": {
     "base_uri": "https://localhost:8080/",
     "height": 253
    },
    "executionInfo": {
     "elapsed": 26,
     "status": "ok",
     "timestamp": 1628034886723,
     "user": {
      "displayName": "Elias Frozen Soul",
      "photoUrl": "",
      "userId": "04985891513697763633"
     },
     "user_tz": -120
    },
    "id": "0fbc0186",
    "outputId": "edb32a25-4c9d-4783-c7f9-ac1aea97fa3e"
   },
   "outputs": [],
   "source": [
    "data_df.head()"
   ]
  },
  {
   "cell_type": "code",
   "execution_count": null,
   "id": "07d00c9e",
   "metadata": {
    "id": "07d00c9e"
   },
   "outputs": [],
   "source": [
    "#Comprobamos que la division se hay realizado correctamente revisando la lista de paises"
   ]
  },
  {
   "cell_type": "code",
   "execution_count": null,
   "id": "a9d965e6",
   "metadata": {
    "colab": {
     "base_uri": "https://localhost:8080/"
    },
    "executionInfo": {
     "elapsed": 26,
     "status": "ok",
     "timestamp": 1628034886724,
     "user": {
      "displayName": "Elias Frozen Soul",
      "photoUrl": "",
      "userId": "04985891513697763633"
     },
     "user_tz": -120
    },
    "id": "a9d965e6",
    "outputId": "dc352af1-7f0d-44d2-8863-74f6fad54b6a"
   },
   "outputs": [],
   "source": [
    "print(f\"countries:\\n{list(data_df.C2.unique())}\")"
   ]
  },
  {
   "cell_type": "code",
   "execution_count": null,
   "id": "ee326912",
   "metadata": {
    "id": "ee326912"
   },
   "outputs": [],
   "source": [
    "#Vamos a elegir el intervalo de tiempo entre 2010 y 2020"
   ]
  },
  {
   "cell_type": "code",
   "execution_count": null,
   "id": "aae9b8e6",
   "metadata": {
    "id": "aae9b8e6"
   },
   "outputs": [],
   "source": [
    "selected_cols = ['C2','age','unit','sex', 's_adj', \n",
    "                 '2020M07 ', '2020M06 ', '2020M05 ', '2020M04 ','2020M03 ','2020M02 ','2020M01 ',\n",
    "                 \n",
    "                 '2019M12 ','2019M11 ','2019M10 ','2019M09 ','2019M08 ','2019M07 ',\n",
    "                 '2019M06 ','2019M05 ','2019M04 ','2019M03 ','2019M02 ','2019M01 ',\n",
    "                \n",
    "                 '2018M12 ','2018M11 ','2018M10 ','2018M09 ','2018M08 ','2018M07 ',\n",
    "                 '2018M06 ','2018M05 ','2018M04 ','2018M03 ','2018M02 ','2018M01 ',\n",
    "                \n",
    "                 '2017M12 ','2017M11 ','2017M10 ','2017M09 ','2017M08 ','2017M07 ',\n",
    "                 '2017M06 ','2017M05 ','2017M04 ','2017M03 ','2017M02 ','2017M01 ',\n",
    "                \n",
    "                 '2016M12 ','2016M11 ','2016M10 ','2016M09 ','2016M08 ','2016M07 ',\n",
    "                 '2016M06 ','2016M05 ','2016M04 ','2016M03 ','2016M02 ','2016M01 ',\n",
    "                \n",
    "                 '2015M12 ','2015M11 ','2015M10 ','2015M09 ','2015M08 ','2015M07 ',\n",
    "                 '2015M06 ','2015M05 ','2015M04 ','2015M03 ','2015M02 ','2015M01 ', \n",
    "                 \n",
    "                '2014M12 ','2014M11 ','2014M10 ','2014M09 ','2014M08 ',\n",
    "                '2014M07 ', '2014M06 ', '2014M05 ', '2014M04 ','2014M03 ','2014M02 ','2014M01 ',\n",
    "\n",
    "\n",
    "                 '2013M12 ','2019M11 ','2019M10 ','2019M09 ','2019M08 ','2019M07 ',\n",
    "                 '2013M06 ','2013M05 ','2013M04 ','2013M03 ','2013M02 ','2013M01 ',\n",
    "                \n",
    "                 '2012M12 ','2012M11 ','2012M10 ','2012M09 ','2012M08 ','2012M07 ',\n",
    "                '2012M06 ','2012M05 ','2012M04 ','2012M03 ','2012M02 ','2012M01 ',\n",
    "                \n",
    "                 '2011M12 ','2011M11 ','2011M10 ','2011M09 ','2011M08 ','2011M07 ',\n",
    "                 '2011M06 ','2011M05 ','2011M04 ','2011M03 ','2011M02 ','2011M01 ',\n",
    "                \n",
    "                 '2010M12 ','2010M11 ','2010M10 ','2010M09 ','2010M08 ','2010M07 ',\n",
    "                 '2010M06 ','2010M05 ','2010M04 ','2010M03 ','2010M02 ','2010M01 ',]"
   ]
  },
  {
   "cell_type": "code",
   "execution_count": null,
   "id": "e9afcaa9",
   "metadata": {
    "colab": {
     "base_uri": "https://localhost:8080/",
     "height": 253
    },
    "executionInfo": {
     "elapsed": 13,
     "status": "ok",
     "timestamp": 1628034886949,
     "user": {
      "displayName": "Elias Frozen Soul",
      "photoUrl": "",
      "userId": "04985891513697763633"
     },
     "user_tz": -120
    },
    "id": "e9afcaa9",
    "outputId": "f1ecfdfa-521c-4752-bfe5-c15b1f83a402"
   },
   "outputs": [],
   "source": [
    "data_sel_df = data_df[selected_cols]\n",
    "data_sel_df.head()"
   ]
  },
  {
   "cell_type": "code",
   "execution_count": null,
   "id": "1ee37caa",
   "metadata": {
    "id": "1ee37caa"
   },
   "outputs": [],
   "source": [
    "#Vamos a unir las columnas de codigos"
   ]
  },
  {
   "cell_type": "code",
   "execution_count": null,
   "id": "b11ecd26",
   "metadata": {
    "colab": {
     "base_uri": "https://localhost:8080/",
     "height": 423
    },
    "executionInfo": {
     "elapsed": 287,
     "status": "ok",
     "timestamp": 1628034887226,
     "user": {
      "displayName": "Elias Frozen Soul",
      "photoUrl": "",
      "userId": "04985891513697763633"
     },
     "user_tz": -120
    },
    "id": "b11ecd26",
    "outputId": "f09c9f38-fab0-4fa7-c4f2-93a9587058c5"
   },
   "outputs": [],
   "source": [
    "data_sel_df = data_sel_df.merge(country_codes_df, on=\"C2\")\n",
    "data_sel_df.head()"
   ]
  },
  {
   "cell_type": "code",
   "execution_count": null,
   "id": "1157e71e",
   "metadata": {
    "colab": {
     "base_uri": "https://localhost:8080/"
    },
    "executionInfo": {
     "elapsed": 12,
     "status": "ok",
     "timestamp": 1628034887227,
     "user": {
      "displayName": "Elias Frozen Soul",
      "photoUrl": "",
      "userId": "04985891513697763633"
     },
     "user_tz": -120
    },
    "id": "1157e71e",
    "outputId": "a169a6e4-03fd-4856-c0d3-c9959af3268b"
   },
   "outputs": [],
   "source": [
    "print(f\"selected data shape: {data_sel_df.shape}\")"
   ]
  },
  {
   "cell_type": "code",
   "execution_count": null,
   "id": "61203382",
   "metadata": {
    "id": "61203382"
   },
   "outputs": [],
   "source": [
    "#La parte más importante, vamos a usar merge para convertir todos los meses en columnas"
   ]
  },
  {
   "cell_type": "code",
   "execution_count": null,
   "id": "7685e490",
   "metadata": {
    "id": "7685e490"
   },
   "outputs": [],
   "source": [
    "data_tr_df = data_sel_df.melt(id_vars=[\"country\", \"age\", \"unit\", \"sex\", \"s_adj\", \"C2\", \"C3\", \"numeric\", \"iso\"], \n",
    "        var_name=\"Date\", \n",
    "        value_name=\"Value\")"
   ]
  },
  {
   "cell_type": "code",
   "execution_count": null,
   "id": "41a2eefb",
   "metadata": {
    "colab": {
     "base_uri": "https://localhost:8080/",
     "height": 204
    },
    "executionInfo": {
     "elapsed": 331,
     "status": "ok",
     "timestamp": 1628034887552,
     "user": {
      "displayName": "Elias Frozen Soul",
      "photoUrl": "",
      "userId": "04985891513697763633"
     },
     "user_tz": -120
    },
    "id": "41a2eefb",
    "outputId": "ef7baa01-7bc1-4660-daef-a8767ccabc78"
   },
   "outputs": [],
   "source": [
    "data_tr_df.head()"
   ]
  },
  {
   "cell_type": "code",
   "execution_count": null,
   "id": "826a7f2e",
   "metadata": {
    "id": "826a7f2e"
   },
   "outputs": [],
   "source": [
    "#Ahora hay que limpiar la columna values de todo lo que no sean digitos"
   ]
  },
  {
   "cell_type": "code",
   "execution_count": null,
   "id": "30d1d636",
   "metadata": {
    "id": "30d1d636"
   },
   "outputs": [],
   "source": [
    "import re\n",
    "data_tr_df['Value'] = data_tr_df['Value'].apply(lambda x: re.sub(r\"[a-zA-Z: ]\", \"\", x))\n",
    "data_tr_df['Value'] = data_tr_df['Value'].apply(lambda x: x.replace(\" \",\"\"))\n",
    "\n",
    "data_tr_df = data_tr_df.loc[~(data_tr_df.Value==\"\")]\n",
    "\n",
    "data_tr_df['Value'] = data_tr_df['Value'].apply(lambda x: float(x))"
   ]
  },
  {
   "cell_type": "code",
   "execution_count": null,
   "id": "3ab2f823",
   "metadata": {
    "id": "3ab2f823"
   },
   "outputs": [],
   "source": [
    "#Veamos cuantos valores tenemos"
   ]
  },
  {
   "cell_type": "code",
   "execution_count": null,
   "id": "c9e48304",
   "metadata": {
    "colab": {
     "base_uri": "https://localhost:8080/"
    },
    "executionInfo": {
     "elapsed": 10,
     "status": "ok",
     "timestamp": 1628034888116,
     "user": {
      "displayName": "Elias Frozen Soul",
      "photoUrl": "",
      "userId": "04985891513697763633"
     },
     "user_tz": -120
    },
    "id": "c9e48304",
    "outputId": "46c4244b-06dc-424e-bff9-41cfe454282b"
   },
   "outputs": [],
   "source": [
    "print(f\"distinct values: {len(list(data_tr_df['Value'].unique()))}\")\n",
    "print(f\"samples values: {data_tr_df['Value'].unique()}\")"
   ]
  },
  {
   "cell_type": "code",
   "execution_count": null,
   "id": "e7d872c8",
   "metadata": {
    "id": "e7d872c8"
   },
   "outputs": [],
   "source": [
    "#Realizamos un filtrado para seleccionar solo los datos que conciernen al porcentage de población activa (PC_ACT)\n",
    "# y ambos sexos entre 35 y 74 años "
   ]
  },
  {
   "cell_type": "code",
   "execution_count": null,
   "id": "ecd5cba7",
   "metadata": {
    "id": "ecd5cba7"
   },
   "outputs": [],
   "source": [
    "total_y25_74_df = data_tr_df.loc[(data_tr_df.age=='Y25-74')&(data_tr_df.unit=='PC_ACT')&(data_tr_df.sex=='T')&(data_tr_df.s_adj=='TC')]"
   ]
  },
  {
   "cell_type": "code",
   "execution_count": null,
   "id": "0a866f39",
   "metadata": {
    "id": "0a866f39"
   },
   "outputs": [],
   "source": [
    "#Definimos la funcion de gráfica "
   ]
  },
  {
   "cell_type": "code",
   "execution_count": null,
   "id": "955a5cd4",
   "metadata": {
    "id": "955a5cd4"
   },
   "outputs": [],
   "source": [
    "def plot_time_variation(df, y='Value', size=1, is_log=False, title=\"\"):\n",
    "    f, ax = plt.subplots(1,1, figsize=(4*size,3*size))\n",
    "\n",
    "    countries = list(df.country.unique())\n",
    "    for country in countries:\n",
    "        df_ = df[(df['country']==country)] \n",
    "        g = sns.lineplot(x=\"Date\", y=y, data=df_,  label=country)  \n",
    "        ax.text(max(df_['Date']), (df_.loc[df_['Date']==max(df_['Date']), y]), str(country))\n",
    "    plt.xticks(rotation=90)\n",
    "    plt.title(f'Total desempleados, {title}, ordenados por pais')\n",
    "    ax.text(max(df_['Date']), (df_.loc[df_['Date']==max(df_['Date']), y]), str(country))\n",
    "    plt.legend(loc=\"upper left\", bbox_to_anchor=(1,1))\n",
    "    if(is_log):\n",
    "        ax.set(yscale=\"log\")\n",
    "    ax.grid(color='black', linestyle='dotted', linewidth=0.75)\n",
    "    plt.show()  "
   ]
  },
  {
   "cell_type": "code",
   "execution_count": null,
   "id": "e9821daf",
   "metadata": {
    "id": "e9821daf"
   },
   "outputs": [],
   "source": [
    "#Mostramos las graficas"
   ]
  },
  {
   "cell_type": "code",
   "execution_count": null,
   "id": "14c3e19a",
   "metadata": {
    "colab": {
     "base_uri": "https://localhost:8080/",
     "height": 1000
    },
    "executionInfo": {
     "elapsed": 8515,
     "status": "ok",
     "timestamp": 1628034896625,
     "user": {
      "displayName": "Elias Frozen Soul",
      "photoUrl": "",
      "userId": "04985891513697763633"
     },
     "user_tz": -120
    },
    "id": "14c3e19a",
    "outputId": "08af56c2-2521-408a-eb9b-1da636df8c3a",
    "scrolled": true
   },
   "outputs": [],
   "source": [
    "plot_time_variation(total_y25_74_df, size=9, is_log=True, title = \"Edad entre 25-75 -\")"
   ]
  },
  {
   "cell_type": "code",
   "execution_count": null,
   "id": "5bbbd159",
   "metadata": {
    "colab": {
     "base_uri": "https://localhost:8080/",
     "height": 1000
    },
    "executionInfo": {
     "elapsed": 7484,
     "status": "ok",
     "timestamp": 1628034904104,
     "user": {
      "displayName": "Elias Frozen Soul",
      "photoUrl": "",
      "userId": "04985891513697763633"
     },
     "user_tz": -120
    },
    "id": "5bbbd159",
    "outputId": "c0eb6980-70aa-49c1-e1c1-67060ebead02"
   },
   "outputs": [],
   "source": [
    "total_Y_LT25_df = data_tr_df.loc[(data_tr_df.age=='Y_LT25')&(data_tr_df.unit=='PC_ACT')&(data_tr_df.sex=='T')&(data_tr_df.s_adj=='TC')]\n",
    "plot_time_variation(total_Y_LT25_df, size=9, is_log=True, title = \"Total menores de 25 \")"
   ]
  },
  {
   "cell_type": "code",
   "execution_count": null,
   "id": "c8381b67",
   "metadata": {
    "id": "c8381b67"
   },
   "outputs": [],
   "source": [
    "#Graficas para comparar grupos de edad, sexo segun el pais."
   ]
  },
  {
   "cell_type": "code",
   "execution_count": null,
   "id": "9b87c6ba",
   "metadata": {
    "id": "9b87c6ba"
   },
   "outputs": [],
   "source": [
    "def plot_time_variation_age_sex(data_tr_df, y='Value', country=\"Netherlands\"):\n",
    "    c_df = data_tr_df.loc[(data_tr_df.country==country)&(data_tr_df.unit=='PC_ACT')&(data_tr_df.s_adj=='TC')]\n",
    "    f, ax = plt.subplots(1,1, figsize=(16,12))\n",
    "    sns.lineplot(x=\"Date\", y=y, data=c_df.loc[(c_df.age=='Y_LT25')&(c_df.sex=='F')],  label=\"Mujeres <25 años\")  \n",
    "    sns.lineplot(x=\"Date\", y=y, data=c_df.loc[(c_df.age=='Y_LT25')&(c_df.sex=='M')],  label=\"Hombres <25 años\")  \n",
    "    sns.lineplot(x=\"Date\", y=y, data=c_df.loc[(c_df.age=='Y25-74')&(c_df.sex=='F')],  label=\"Mujeres, 25-74 años\")  \n",
    "    sns.lineplot(x=\"Date\", y=y, data=c_df.loc[(c_df.age=='Y25-74')&(c_df.sex=='M')],  label=\"Hombres, 25-74 años\")  \n",
    "\n",
    "    plt.xticks(rotation=90)\n",
    "    plt.title(f'Total unemployment in {country}, grouped by age & sex')\n",
    "    plt.legend(loc=\"upper left\", bbox_to_anchor=(1,1))\n",
    "    ax.grid(color='black', linestyle='dotted', linewidth=0.75)\n",
    "    plt.show()  "
   ]
  },
  {
   "cell_type": "code",
   "execution_count": null,
   "id": "b938a318",
   "metadata": {
    "colab": {
     "base_uri": "https://localhost:8080/",
     "height": 770
    },
    "executionInfo": {
     "elapsed": 1694,
     "status": "ok",
     "timestamp": 1628034905791,
     "user": {
      "displayName": "Elias Frozen Soul",
      "photoUrl": "",
      "userId": "04985891513697763633"
     },
     "user_tz": -120
    },
    "id": "b938a318",
    "outputId": "22d04b26-3c0e-456d-c764-6fbc92cc9733",
    "scrolled": true
   },
   "outputs": [],
   "source": [
    "plot_time_variation_age_sex(data_tr_df,country=\"Spain\")"
   ]
  },
  {
   "cell_type": "code",
   "execution_count": null,
   "id": "781606b0",
   "metadata": {
    "id": "781606b0"
   },
   "outputs": [],
   "source": [
    "#Definimos la función de mapas gráficos de europa"
   ]
  },
  {
   "cell_type": "code",
   "execution_count": null,
   "id": "4e7dcd9f",
   "metadata": {
    "id": "4e7dcd9f"
   },
   "outputs": [],
   "source": [
    "import plotly.express as px\n",
    "\n",
    "def plot_animated_map(dd_df, title):\n",
    "    hover_text = []\n",
    "    for index, row in dd_df.iterrows():\n",
    "        hover_text.append((f\"country: {row['country']}<br>unemployment: {row['Value']}%<br>country code: {row['iso']}\"))\n",
    "    dd_df['hover_text'] = hover_text\n",
    "\n",
    "    fig = px.choropleth(dd_df, \n",
    "                        locations=\"C3\",\n",
    "                        hover_name='hover_text',\n",
    "                        color=\"Value\",\n",
    "                        animation_frame=\"Date\",\n",
    "                        projection=\"natural earth\",\n",
    "                        color_continuous_scale=px.colors.sequential.Plasma,\n",
    "                        width=600, height=600)\n",
    "    fig.update_geos(   \n",
    "        showcoastlines=True, coastlinecolor=\"DarkBlue\",\n",
    "        showland=True, landcolor=\"LightGrey\",\n",
    "        showocean=True, oceancolor=\"LightBlue\",\n",
    "        showlakes=True, lakecolor=\"Blue\",\n",
    "        showrivers=True, rivercolor=\"Blue\",\n",
    "        showcountries=True, countrycolor=\"DarkBlue\"\n",
    "    )\n",
    "    fig.update_layout(title = title, geo_scope=\"europe\")\n",
    "    fig.show()    "
   ]
  },
  {
   "cell_type": "code",
   "execution_count": null,
   "id": "50474afb",
   "metadata": {
    "colab": {
     "base_uri": "https://localhost:8080/",
     "height": 617
    },
    "executionInfo": {
     "elapsed": 6154,
     "status": "ok",
     "timestamp": 1628034912641,
     "user": {
      "displayName": "Elias Frozen Soul",
      "photoUrl": "",
      "userId": "04985891513697763633"
     },
     "user_tz": -120
    },
    "id": "50474afb",
    "outputId": "e4940120-195c-4c2e-807d-2c581b127759"
   },
   "outputs": [],
   "source": [
    "c_df = data_tr_df.loc[(data_tr_df.unit=='PC_ACT')&(data_tr_df.s_adj=='TC')]\n",
    "dd_df=c_df.loc[(c_df.age=='Y25-74')&(c_df.sex=='T')]\n",
    "dd_df = dd_df.sort_values(by='Date')\n",
    "title = 'Porcentaje de desempleados por pais <br> Total entre 25-74 años'\n",
    "plot_animated_map(dd_df, title)"
   ]
  },
  {
   "cell_type": "code",
   "execution_count": 4,
   "id": "f17e0efb",
   "metadata": {
    "colab": {
     "base_uri": "https://localhost:8080/",
     "height": 617
    },
    "executionInfo": {
     "elapsed": 5404,
     "status": "ok",
     "timestamp": 1628034918033,
     "user": {
      "displayName": "Elias Frozen Soul",
      "photoUrl": "",
      "userId": "04985891513697763633"
     },
     "user_tz": -120
    },
    "id": "f17e0efb",
    "outputId": "232a5b9a-f80b-429c-e40f-40466a726478"
   },
   "outputs": [
    {
     "ename": "NameError",
     "evalue": "name 'data_tr_df' is not defined",
     "output_type": "error",
     "traceback": [
      "\u001b[0;31m---------------------------------------------------------------------------\u001b[0m",
      "\u001b[0;31mNameError\u001b[0m                                 Traceback (most recent call last)",
      "Cell \u001b[0;32mIn[4], line 1\u001b[0m\n\u001b[0;32m----> 1\u001b[0m c_df \u001b[38;5;241m=\u001b[39m \u001b[43mdata_tr_df\u001b[49m\u001b[38;5;241m.\u001b[39mloc[(data_tr_df\u001b[38;5;241m.\u001b[39munit\u001b[38;5;241m==\u001b[39m\u001b[38;5;124m'\u001b[39m\u001b[38;5;124mPC_ACT\u001b[39m\u001b[38;5;124m'\u001b[39m)\u001b[38;5;241m&\u001b[39m(data_tr_df\u001b[38;5;241m.\u001b[39ms_adj\u001b[38;5;241m==\u001b[39m\u001b[38;5;124m'\u001b[39m\u001b[38;5;124mTC\u001b[39m\u001b[38;5;124m'\u001b[39m)]\n\u001b[1;32m      2\u001b[0m dd_df\u001b[38;5;241m=\u001b[39mc_df\u001b[38;5;241m.\u001b[39mloc[(c_df\u001b[38;5;241m.\u001b[39mage\u001b[38;5;241m==\u001b[39m\u001b[38;5;124m'\u001b[39m\u001b[38;5;124mY_LT25\u001b[39m\u001b[38;5;124m'\u001b[39m)\u001b[38;5;241m&\u001b[39m(c_df\u001b[38;5;241m.\u001b[39msex\u001b[38;5;241m==\u001b[39m\u001b[38;5;124m'\u001b[39m\u001b[38;5;124mT\u001b[39m\u001b[38;5;124m'\u001b[39m)]\n\u001b[1;32m      3\u001b[0m dd_df \u001b[38;5;241m=\u001b[39m dd_df\u001b[38;5;241m.\u001b[39msort_values(by\u001b[38;5;241m=\u001b[39m\u001b[38;5;124m'\u001b[39m\u001b[38;5;124mDate\u001b[39m\u001b[38;5;124m'\u001b[39m)\n",
      "\u001b[0;31mNameError\u001b[0m: name 'data_tr_df' is not defined"
     ]
    }
   ],
   "source": [
    "c_df = data_tr_df.loc[(data_tr_df.unit=='PC_ACT')&(data_tr_df.s_adj=='TC')]\n",
    "dd_df=c_df.loc[(c_df.age=='Y_LT25')&(c_df.sex=='T')]\n",
    "dd_df = dd_df.sort_values(by='Date')\n",
    "title = 'Porcentaje de desempleados por pais <br>Total menores de 25 años'\n",
    "plot_animated_map(dd_df, title)"
   ]
  },
  {
   "cell_type": "code",
   "execution_count": null,
   "id": "994d919c",
   "metadata": {},
   "outputs": [],
   "source": []
  }
 ],
 "metadata": {
  "colab": {
   "name": "Desempleo Europa(Limpieza y Visualización).ipynb",
   "provenance": []
  },
  "kernelspec": {
   "display_name": "Python 3 (ipykernel)",
   "language": "python",
   "name": "python3"
  },
  "language_info": {
   "codemirror_mode": {
    "name": "ipython",
    "version": 3
   },
   "file_extension": ".py",
   "mimetype": "text/x-python",
   "name": "python",
   "nbconvert_exporter": "python",
   "pygments_lexer": "ipython3",
   "version": "3.8.10"
  }
 },
 "nbformat": 4,
 "nbformat_minor": 5
}
